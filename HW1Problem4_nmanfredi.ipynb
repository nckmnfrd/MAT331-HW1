{
 "cells": [
  {
   "cell_type": "code",
   "execution_count": 3,
   "metadata": {},
   "outputs": [
    {
     "name": "stdout",
     "output_type": "stream",
     "text": [
      " The number is prime.\n"
     ]
    }
   ],
   "source": [
    "number = 2^19 - 1\n",
    "for n in range(2,number): ##tests the numbers within the range of 2 and the given \n",
    "    if(number % n == 0): ##tests if the remainder of the number is 0 \n",
    "        print('The number is not prime.') ## prints if the remainder is 0 then it is not prime\n",
    "        break ##breaks the continous loop\n",
    "print('The number is prime.') ##prints if the remainder is prime\n",
    "    \n",
    "\n"
   ]
  },
  {
   "cell_type": "markdown",
   "metadata": {},
   "source": []
  }
 ],
 "metadata": {
  "kernelspec": {
   "display_name": "SageMath 8.6",
   "language": "",
   "name": "sagemath"
  },
  "language_info": {
   "codemirror_mode": {
    "name": "ipython",
    "version": 2
   },
   "file_extension": ".py",
   "mimetype": "text/x-python",
   "name": "python",
   "nbconvert_exporter": "python",
   "pygments_lexer": "ipython2",
   "version": "2.7.15"
  }
 },
 "nbformat": 4,
 "nbformat_minor": 2
}
